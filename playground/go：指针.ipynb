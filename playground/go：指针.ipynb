{
 "cells": [
  {
   "cell_type": "markdown",
   "id": "f12d51ae-4d9f-4bbb-b1ff-38f62ce2c3f3",
   "metadata": {},
   "source": [
    "# 关键特性1句话\n",
    "\n",
    "1. 在Go语言中，函数参数都是以复制的方式（不支持以引用的方式）传递（比较特殊的是，Go语言闭包函数对外部变量是以引用的方式使用的）。\n",
    "2. "
   ]
  },
  {
   "cell_type": "markdown",
   "id": "1751694a-e70f-4dbf-9854-83290ded5172",
   "metadata": {},
   "source": [
    "# 指针"
   ]
  },
  {
   "cell_type": "code",
   "execution_count": 5,
   "id": "e3e20887-9256-407f-a7f0-3ea889cdc818",
   "metadata": {},
   "outputs": [
    {
     "name": "stdout",
     "output_type": "stream",
     "text": [
      "world\n"
     ]
    }
   ],
   "source": [
    "// 指针：修改指向的内容\n",
    "func main() {\n",
    "    var name *string\n",
    "    s := \"hello\"\n",
    "    name = &s\n",
    "    *name=\"world\"\n",
    "    fmt.Println(s)\n",
    "}"
   ]
  },
  {
   "cell_type": "code",
   "execution_count": null,
   "id": "5aa2287d-7214-48a0-baf9-e159d984a60e",
   "metadata": {},
   "outputs": [],
   "source": [
    "func testAddr(p *string) {\n",
    "    fmt.Printf(\"函数参数传入后值:%p\\n\", p)\n",
    "    fmt.Printf(\"函数参数传入前后的地址:%p\\n\", &p)\n",
    "}\n",
    "\n",
    "// 指针：打印变量的地址\n",
    "func main() {\n",
    "    s := \"hello\"\n",
    "    name := &s\n",
    "    \n",
    "    // 变量值一直没变 \n",
    "    fmt.Printf(\"main:%p\\n\", &s)\n",
    "    fmt.Printf(\"main:%p\\n\", name)\n",
    "    \n",
    "    fmt.Printf(\"函数参数传入前值:%p\\n\", name)\n",
    "    fmt.Printf(\"函数参数传入前值的地址:%p\\n\", &name)\n",
    "    testAddr(name)\n",
    "}"
   ]
  },
  {
   "cell_type": "code",
   "execution_count": null,
   "id": "0ad93cde-a909-4ae6-b0fa-77ee4ed47f62",
   "metadata": {},
   "outputs": [],
   "source": [
    "// 指针：指针的零值, 将无法修改指针指向的内容\n",
    "func main() {\n",
    "    var *sp string\n",
    "    *sp = \"test\"\n",
    "    fmt.Println(sp)\n",
    "}"
   ]
  },
  {
   "cell_type": "code",
   "execution_count": null,
   "id": "d305c173-e4af-4836-ae68-86cd9ee1ffad",
   "metadata": {},
   "outputs": [],
   "source": [
    "// 指针：指针使用new，指向的内容会分配一个空字符串（字符串的零值）\n",
    "func main() {\n",
    "    sp := new(string)\n",
    "    *sp = \"test\"\n",
    "    fmt.Println(*sp)\n",
    "}"
   ]
  },
  {
   "cell_type": "markdown",
   "id": "5f05e20f-da69-4e5a-be72-59ff0bd867e0",
   "metadata": {},
   "source": [
    "# 引用类型（指针语法糖）"
   ]
  },
  {
   "cell_type": "code",
   "execution_count": null,
   "id": "1e101a2e-6d4c-49b5-924a-4e5d624975d8",
   "metadata": {},
   "outputs": [],
   "source": [
    "\n",
    "func testRefAddr(s map[string]string) {\n",
    "    fmt.Printf(\"函数参数传入后值:%p\\n\", s)\n",
    "    fmt.Printf(\"函数参数传入前后的地址:%p\\n\", &s)\n",
    "    s[\"name\"] = \"test jamlee\"\n",
    "}\n",
    "\n",
    "// 指针：map 类型，函数传值本质是传递的一个指针，函数传值传的是地址，会被修改\n",
    "func main() {\n",
    "    s := map[string]string{\"name\": \"jamlee\"}    \n",
    "    fmt.Printf(\"函数参数传入前值:%p\\n\", s)\n",
    "    fmt.Printf(\"函数参数传入前值的地址:%p\\n\", &s)\n",
    "    fmt.Println(s[\"name\"])\n",
    "    testRefAddr(s)\n",
    "    fmt.Println(s[\"name\"])\n",
    "}"
   ]
  }
 ],
 "metadata": {
  "kernelspec": {
   "display_name": "Go (gonb)",
   "language": "go",
   "name": "gonb"
  },
  "language_info": {
   "codemirror_mode": "",
   "file_extension": ".go",
   "mimetype": "",
   "name": "go",
   "nbconvert_exporter": "",
   "pygments_lexer": "",
   "version": "go1.19.3"
  }
 },
 "nbformat": 4,
 "nbformat_minor": 5
}
