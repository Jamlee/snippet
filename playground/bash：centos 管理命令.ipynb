{
 "cells": [
  {
   "cell_type": "code",
   "execution_count": 2,
   "id": "8ca1e954-4bbc-4f65-b8c6-5e44a6fe4770",
   "metadata": {},
   "outputs": [
    {
     "name": "stdout",
     "output_type": "stream",
     "text": [
      "exit\n",
      "Restarting Bash\n"
     ]
    }
   ],
   "source": [
    "exit\n",
    "\n",
    "# 网卡名设置\n",
    "sed -ri 's/(^GRUB_CMDLINE_LINUX=.*)\\\"$/\\1 net.ifnames=0 biosdevname=0\"/g' /etc/default/grub\n",
    "sed -ri 's/(^GRUB_TIMEOUT=.+)$/GRUB_TIMEOUT=0/g' /etc/default/grub\n",
    "grub2-mkconfig -o /boot/grub2/grub.cfg\n",
    "ln -sf /boot/efi/EFI/tencentos/grubenv /boot/grub2/grubenv && grub2-editenv create && grub2-install\n",
    "\n",
    "# 设置网卡 IP\n",
    "cat > /etc/sysconfig/network-scripts/ifcfg-eth0 <<EOF\n",
    "# static IP address on CentOS 7 or RHEL 7#\n",
    "TYPE=Ethernet\n",
    "BOOTPROTO=none\n",
    "IPADDR=192.168.1.100\n",
    "PREFIX=24\n",
    "GATEWAY=192.168.1.1\n",
    "DNS1=114.114.114.114\n",
    "DNS2=8.8.8.8\n",
    "DNS3=8.8.4.4\n",
    "DEFROUTE=yes\n",
    "IPV4_FAILURE_FATAL=no\n",
    "# Disable ipv6 #\n",
    "IPV6INIT=no\n",
    "NAME=eth0\n",
    "# This is system specific and can be created using 'uuidgen eth0' command #\n",
    "UUID=49b30e92-8aef-4283-99c6-6fdbc0b96e08\n",
    "DEVICE=eth0\n",
    "ONBOOT=yes\n",
    "EOF\n",
    "\n",
    "# 设置网卡名称\n",
    "ifconfig eth0 |grep \"inet \"|awk '{print $2}'|sed s/\\\\./-/g >/etc/hostname\n",
    "echo \"`ifconfig eth0 |grep \"inet \"|awk '{print $2}'` `cat /etc/hostname`\" >>/etc/hosts"
   ]
  }
 ],
 "metadata": {
  "kernelspec": {
   "display_name": "Bash",
   "language": "bash",
   "name": "bash"
  },
  "language_info": {
   "codemirror_mode": "shell",
   "file_extension": ".sh",
   "mimetype": "text/x-sh",
   "name": "bash"
  }
 },
 "nbformat": 4,
 "nbformat_minor": 5
}
