{
 "cells": [
  {
   "cell_type": "markdown",
   "id": "72f69bab-81d4-4e15-9aa2-0a61bd87a4a0",
   "metadata": {},
   "source": [
    "# go 项目规范\n",
    "\n",
    "## 目录结构\n",
    "https://github.com/golang-standards/project-layout/blob/master/README_zh.md"
   ]
  },
  {
   "cell_type": "markdown",
   "id": "fdcd490b-f32e-4550-a622-3371125377e7",
   "metadata": {},
   "source": [
    "## JSON 序列化"
   ]
  },
  {
   "cell_type": "markdown",
   "id": "b840364a-fbf2-44f4-aa01-b72263042535",
   "metadata": {},
   "source": [
    "### unmarshal (string 转为 结构体)"
   ]
  },
  {
   "cell_type": "code",
   "execution_count": 2,
   "id": "d66e0940-6c63-4cc7-9a08-d20e8e01412b",
   "metadata": {},
   "outputs": [
    {
     "name": "stdout",
     "output_type": "stream",
     "text": [
      "{Name:Mr Dummy Number:4 Pointer:0xc000014370}\n"
     ]
    }
   ],
   "source": [
    "type Dummy struct {\n",
    "        Name    string  `json:\"name\"`\n",
    "        Number  int64   `json:\"number\"`\n",
    "        Pointer *string `json:\"pointer\"`\n",
    "}\n",
    "\n",
    "func main() {\n",
    "        data := []byte(`\n",
    "            {\n",
    "                \"name\": \"Mr Dummy\",\n",
    "                \"number\": 4,\n",
    "                \"pointer\": \"yes\"\n",
    "            }\n",
    "        `)\n",
    "\n",
    "        var dummy Dummy\n",
    "        err := json.Unmarshal(data, &dummy)\n",
    "        if err != nil {\n",
    "                fmt.Println(\"An error occured: %v\", err)\n",
    "                os.Exit(1)\n",
    "        }\n",
    "        // we want to print the field names as well\n",
    "        fmt.Printf(\"%+v\\n\", dummy)\n",
    "}"
   ]
  },
  {
   "cell_type": "code",
   "execution_count": 4,
   "id": "a1d03858-ddb4-4d7e-9986-6fce82821154",
   "metadata": {},
   "outputs": [
    {
     "name": "stdout",
     "output_type": "stream",
     "text": [
      "{Name:Mr Dummy}\n"
     ]
    }
   ],
   "source": [
    "import (\n",
    "        \"encoding/json\"\n",
    "        \"fmt\"\n",
    "        \"os\"\n",
    ")\n",
    "\n",
    "// let's change the struct:\n",
    "type Dummy struct {\n",
    "\t// we only care about the name now\n",
    "        Name    string  `json:\"name\"`\n",
    "\t// all other fields are gone\n",
    "}\n",
    "\n",
    "func main() {\n",
    "        data := []byte(`\n",
    "            {\n",
    "                \"name\": \"Mr Dummy\",\n",
    "                \"number\": 4,\n",
    "                \"pointer\": \"yes\"\n",
    "            }\n",
    "        `)\n",
    "        var dummy Dummy\n",
    "        err := json.Unmarshal(data, &dummy)\n",
    "        if err != nil {\n",
    "                fmt.Println(\"An error occured: %v\", err)\n",
    "                os.Exit(1)\n",
    "        }\n",
    "\n",
    "        // we want to print the field names as well\n",
    "        fmt.Printf(\"%+v\\n\", dummy)\n",
    "}"
   ]
  },
  {
   "cell_type": "code",
   "execution_count": 5,
   "id": "056cb5f1-cad7-4a67-8744-acd87ebc06ef",
   "metadata": {},
   "outputs": [
    {
     "name": "stdout",
     "output_type": "stream",
     "text": [
      "{Name:Mr Dummy Number:4 Pointer:<nil>}\n"
     ]
    }
   ],
   "source": [
    "import (\n",
    "        \"encoding/json\"\n",
    "        \"fmt\"\n",
    "        \"os\"\n",
    ")\n",
    "\n",
    "type Dummy struct {\n",
    "        Name    string  `json:\"name\"`\n",
    "        Number  int64   `json:\"number\"`\n",
    "        Pointer *string `json:\"-\"` // we want to ignore JSON for this one\n",
    "}\n",
    "\n",
    "func main() {\n",
    "        data := []byte(`\n",
    "            {\n",
    "                \"name\": \"Mr Dummy\",\n",
    "                \"number\": 4,\n",
    "                \"pointer\": \"yes\"\n",
    "            }\n",
    "        `)\n",
    "\n",
    "        var dummy Dummy\n",
    "        err := json.Unmarshal(data, &dummy)\n",
    "        if err != nil {\n",
    "                fmt.Println(\"An error occured: %v\", err)\n",
    "                os.Exit(1)\n",
    "        }\n",
    "\n",
    "\t// we want to print the field names as well\n",
    "        fmt.Printf(\"%+v\\n\", dummy)\n",
    "}"
   ]
  },
  {
   "cell_type": "markdown",
   "id": "242e3407-4e3a-4ec5-906f-a6cac6328902",
   "metadata": {},
   "source": [
    "### marshal (结构体 转为string)"
   ]
  },
  {
   "cell_type": "code",
   "execution_count": 6,
   "id": "afb6d31d-76f7-4f5f-b625-22a8554cffcb",
   "metadata": {},
   "outputs": [
    {
     "name": "stdout",
     "output_type": "stream",
     "text": [
      "{\"name\":\"Mr Dummy\",\"number\":4}\n"
     ]
    }
   ],
   "source": [
    "import (\n",
    "        \"encoding/json\"\n",
    "        \"fmt\"\n",
    "        \"os\"\n",
    ")\n",
    "\n",
    "type Dummy struct {\n",
    "        Name    string  `json:\"name\"`\n",
    "        Number  int64   `json:\"number\"`\n",
    "        Pointer *string `json:\"-\"`\n",
    "}\n",
    "\n",
    "func main() {\n",
    "        pointer := \"yes\"\n",
    "\n",
    "        dummy := Dummy{\n",
    "                Name: \"Mr Dummy\",\n",
    "                Number: 4,\n",
    "                Pointer: &pointer,\n",
    "        }\n",
    "\n",
    "        data, err := json.Marshal(dummy)\n",
    "        if err != nil {\n",
    "                fmt.Println(\"An error occured: %v\", err)\n",
    "                os.Exit(1)\n",
    "        }\n",
    "\n",
    "        fmt.Println(string(data))\n",
    "}"
   ]
  },
  {
   "cell_type": "code",
   "execution_count": 7,
   "id": "f227eedd-0c0a-46e6-a46f-3e3ebaa728eb",
   "metadata": {},
   "outputs": [
    {
     "name": "stdout",
     "output_type": "stream",
     "text": [
      "{\"name\":\"Mr Dummy\",\"number\":4,\"pointer\":\"yes\"}\n",
      "{}\n"
     ]
    }
   ],
   "source": [
    "\n",
    "import (\n",
    "        \"encoding/json\"\n",
    "        \"fmt\"\n",
    "        \"os\"\n",
    ")\n",
    "\n",
    "type Dummy struct {\n",
    "        Name    string  `json:\"name,omitempty\"`\n",
    "        Number  int64   `json:\"number,omitempty\"`\n",
    "        Pointer *string `json:\"pointer,omitempty\"`\n",
    "}\n",
    "\n",
    "func main() {\n",
    "        pointer := \"yes\"\n",
    "\n",
    "        dummyComplete := Dummy{\n",
    "                Name:    \"Mr Dummy\",\n",
    "                Number:  4,\n",
    "                Pointer: &pointer,\n",
    "        }\n",
    "\n",
    "        data, err := json.Marshal(dummyComplete)\n",
    "        if err != nil {\n",
    "                fmt.Println(\"An error occured: %v\", err)\n",
    "                os.Exit(1)\n",
    "        }\n",
    "\n",
    "        fmt.Println(string(data))\n",
    "\n",
    "\t// ALL of those are considered empty by Go\n",
    "        dummyNilPointer := Dummy{\n",
    "                Name:    \"\",\n",
    "                Number:  0,\n",
    "                Pointer: nil,\n",
    "        }\n",
    "\n",
    "        dataNil, err := json.Marshal(dummyNilPointer)\n",
    "        if err != nil {\n",
    "                fmt.Println(\"An error occured: %v\", err)\n",
    "                os.Exit(1)\n",
    "        }\n",
    "\n",
    "        fmt.Println(string(dataNil))\n",
    "}"
   ]
  }
 ],
 "metadata": {
  "kernelspec": {
   "display_name": "Go (gonb)",
   "language": "go",
   "name": "gonb"
  },
  "language_info": {
   "codemirror_mode": "",
   "file_extension": ".go",
   "mimetype": "",
   "name": "go",
   "nbconvert_exporter": "",
   "pygments_lexer": "",
   "version": "go1.19.3"
  }
 },
 "nbformat": 4,
 "nbformat_minor": 5
}
