{
 "cells": [
  {
   "cell_type": "code",
   "execution_count": null,
   "id": "6f812654-44d3-4b9b-a966-e14ca51737fb",
   "metadata": {},
   "outputs": [],
   "source": [
    "# 启动 redis-server\n",
    "redisImg=redis:6.2.7\n",
    "docker run -d --name myredis --net host ${redisImg} --requirepass \"H1llo\""
   ]
  },
  {
   "cell_type": "code",
   "execution_count": null,
   "id": "6a6fab18-ad8d-46d5-93bc-dfafb333366e",
   "metadata": {},
   "outputs": [],
   "source": [
    "alias redis-cli=\"docker exec -i myredis redis-cli -p 6380 --no-auth-warning -a H1llo\""
   ]
  },
  {
   "cell_type": "markdown",
   "id": "a6515aa7-64fa-4b40-91a6-427f35d5abee",
   "metadata": {},
   "source": [
    "## 有序集合"
   ]
  },
  {
   "cell_type": "code",
   "execution_count": null,
   "id": "52f6a062-d4a4-43e9-8dcf-8b6486d12588",
   "metadata": {},
   "outputs": [],
   "source": [
    "redis-cli flushdb\n",
    "\n",
    "redis-cli zadd app:user:ranking 100 xiaohong\n",
    "redis-cli zadd app:user:ranking 72 xiaoming\n",
    "redis-cli zadd app:user:ranking 44 lihua\n",
    "redis-cli zadd app:user:ranking 199 xiaoliu\n",
    "\n",
    "# 查询用户score，不存在的返回 nil\n",
    "redis-cli zscore app:user:ranking xiaohong\n",
    "redis-cli zscore user:ranking test\n",
    "\n",
    "# 计算集合中的元素个数\n",
    "redis-cli zcard app:user:ranking\n",
    "\n",
    "# 排序\n",
    "time redis-cli zrank app:user:ranking xiaohong"
   ]
  },
  {
   "cell_type": "code",
   "execution_count": null,
   "id": "8b442820-0118-49ea-b2ba-f169087947d9",
   "metadata": {},
   "outputs": [],
   "source": [
    "redis-cli flushdb\n",
    "\n",
    "# 添加更多数据后排序\n",
    "i=0\n",
    "> /tmp/data.txt\n",
    "while ((i <1000000)); do\n",
    "    echo zadd app:user:ranking $i xiaohong${i} >> /tmp/data.txt\n",
    "    let i++\n",
    "done\n",
    "\n",
    "cat /tmp/data.txt | redis-cli --pipe\n",
    "echo \"data add ok\"\n",
    "time redis-cli zrank app:user:ranking xiaohong1888"
   ]
  },
  {
   "cell_type": "code",
   "execution_count": null,
   "id": "056b58bb-c15c-47fb-92d4-b6e4f8dd4edd",
   "metadata": {},
   "outputs": [],
   "source": [
    "# 删除\n",
    "docker rm -f myredis"
   ]
  }
 ],
 "metadata": {
  "kernelspec": {
   "display_name": "Bash",
   "language": "bash",
   "name": "bash"
  },
  "language_info": {
   "codemirror_mode": "shell",
   "file_extension": ".sh",
   "mimetype": "text/x-sh",
   "name": "bash"
  }
 },
 "nbformat": 4,
 "nbformat_minor": 5
}
