{
 "cells": [
  {
   "cell_type": "markdown",
   "id": "30d643b5-9106-4057-a7bb-7661f325ce31",
   "metadata": {},
   "source": [
    "# Effective Go\n",
    "它为整个Go社区的Go代码提供了一个共同的基线。\n",
    "\n",
    "\n",
    "在线运行go：\n",
    "https://goplay.space/\n"
   ]
  },
  {
   "cell_type": "markdown",
   "id": "2d6643c2-0a4f-4ecc-8478-8a4ae1e51943",
   "metadata": {},
   "source": [
    "# 函数\n",
    "\n",
    "## 常见的\n",
    "\n",
    "1. 函数可以声明为类型\n",
    "```go\n",
    "type CalculateType func(int, int) // 声明了一个函数类型\n",
    "```"
   ]
  },
  {
   "cell_type": "markdown",
   "id": "c4a90c58-98c2-4a8f-86a1-5057d14e8a5a",
   "metadata": {},
   "source": [
    "# 数据"
   ]
  },
  {
   "cell_type": "markdown",
   "id": "1f24c599-5842-43f7-8892-607806dec71d",
   "metadata": {},
   "source": [
    "## new 和 make"
   ]
  },
  {
   "cell_type": "code",
   "execution_count": null,
   "id": "23efd2d8-3833-435c-9812-752643c8f037",
   "metadata": {},
   "outputs": [],
   "source": [
    "import \"fmt\"\n",
    "\n",
    "func main () {\n",
    "    slice0 := make([]int, 10, 100)\n",
    "    fmt.Printf(\"len:%d cap:%d %v\\n\", len(slice0), cap(slice0), slice0)\n",
    "    \n",
    "    slice1 := make([]int, 10)\n",
    "    fmt.Printf(\"len:%d cap:%d %v\\n\", len(slice1), cap(slice1), slice1)\n",
    "    \n",
    "    var invalidSlice []int\n",
    "    fmt.Println(invalidSlice)\n",
    "}"
   ]
  },
  {
   "cell_type": "markdown",
   "id": "3fc69f21-5df8-4e4b-8958-6f0e47b1c6f9",
   "metadata": {},
   "source": [
    "## 复合字面"
   ]
  },
  {
   "cell_type": "code",
   "execution_count": null,
   "id": "bcd34a95-8633-4cbf-a3ff-6ff888ef6bc8",
   "metadata": {},
   "outputs": [],
   "source": [
    "//---------------------------------------------------\n",
    "//\n",
    "// array, slice, map使用复合字面\n",
    "//\n",
    "//---------------------------------------------------\n",
    "\n",
    "\n",
    "import \"fmt\"\n",
    "\n",
    "func main() {\n",
    "\t// key 是常量\n",
    "\telements := []string{\n",
    "\t\t0:     \"zero\",\n",
    "\t\t1:     \"one\",\n",
    "\t\t4 / 2: \"two\",\n",
    "\t}\n",
    "\tfmt.Println(elements)\n",
    "    fmt.Println(\"--------------------------\")\n",
    "\n",
    "\t// index 不可以重复\n",
    "\t// elements = []string{\n",
    "\t// \t0:     \"zero\",\n",
    "\t// \t1:     \"one\",\n",
    "\t// \t4 / 2: \"two\",\n",
    "\t// \t2:     \"also two\",\n",
    "\t// }\n",
    "\t// fmt.Println(elements)\n",
    "\n",
    "\t// 跳过索引赋值\n",
    "\tnumbers := []string{\n",
    "\t\t\"a\", \"b\", 2 << 1: \"c\", \"d\",\n",
    "\t}\n",
    "\ttypeOfNumbers := reflect.TypeOf(numbers)\n",
    "\tfmt.Printf(\"name: %s, kind: %s\\n\", typeOfNumbers.Name(), typeOfNumbers.Kind())\n",
    "    fmt.Printf(\"%#v\\n\", numbers)\n",
    "    fmt.Println(\"--------------------------\")\n",
    "    \n",
    "\t// 指定size，将会是数组赋值\n",
    "\tstringArr := [3]string{\"foo\", \"bar\"}\n",
    "\ttypeOfStringArr := reflect.TypeOf(stringArr)\n",
    "\tfmt.Printf(\"name: %s, kind: %s\\n\", typeOfStringArr.Name(), typeOfStringArr.Kind())\n",
    "    fmt.Printf(\"%v\\n\", typeOfStringArr)\n",
    "    fmt.Println(\"--------------------------\")\n",
    "    \n",
    "    // 省略指定size，用 ... 代替。将会是数组赋值, ... 用最大的 index 自动计算\n",
    "    stringArr1 := [...]string{\"foo\", \"bar\", 5: \"test\"}\n",
    "\ttypeOfStringArr1 := reflect.TypeOf(stringArr1)\n",
    "\tfmt.Printf(\"name: %s, kind: %s\\n\", typeOfStringArr1.Name(), typeOfStringArr1.Kind())\n",
    "    fmt.Printf(\"%v\\n\", typeOfStringArr1)\n",
    "    fmt.Println(\"--------------------------\")\n",
    "    \n",
    "    // map 的 key 不一定是字符串\n",
    "    coords := map[[2]byte]string{{1, 1}: \"one one\", {2, 1}: \"two one\"}\n",
    "    fmt.Printf(\"%v\\n\", coords)\n",
    "    type Engineer struct {\n",
    "        name string\n",
    "        age  byte\n",
    "    }\n",
    "    engineers := [...]Engineer{{\"Michał\", 29}, {\"John\", 25}}    \n",
    "    fmt.Printf(\"%v\\n\", engineers)\n",
    "    fmt.Println(\"--------------------------\")\n",
    "}\n"
   ]
  },
  {
   "cell_type": "markdown",
   "id": "f29f264f-9a89-48d5-8ce5-85af552069e0",
   "metadata": {},
   "source": [
    "# 并发"
   ]
  }
 ],
 "metadata": {
  "kernelspec": {
   "display_name": "Go (gonb)",
   "language": "go",
   "name": "gonb"
  },
  "language_info": {
   "codemirror_mode": "",
   "file_extension": ".go",
   "mimetype": "",
   "name": "go",
   "nbconvert_exporter": "",
   "pygments_lexer": "",
   "version": "go1.19.3"
  }
 },
 "nbformat": 4,
 "nbformat_minor": 5
}
