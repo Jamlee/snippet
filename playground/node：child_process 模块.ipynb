{
 "cells": [
  {
   "cell_type": "code",
   "execution_count": 1,
   "id": "106f8e6f-1d25-4239-a849-41361d4febce",
   "metadata": {},
   "outputs": [
    {
     "ename": "TypeError",
     "evalue": "require(...).promisify is not a function",
     "execution_count": 1,
     "output_type": "error",
     "traceback": [
      "evalmachine.<anonymous>:2",
      "const runIt = require('util').promisify(exec);",
      "                              ^",
      "",
      "TypeError: require(...).promisify is not a function",
      "    at evalmachine.<anonymous>:2:31",
      "    at ContextifyScript.Script.runInThisContext (vm.js:25:33)",
      "    at Object.runInThisContext (vm.js:97:38)",
      "    at run ([eval]:1020:15)",
      "    at onRunRequest ([eval]:864:18)",
      "    at onMessage ([eval]:828:13)",
      "    at emitTwo (events.js:106:13)",
      "    at process.emit (events.js:191:7)",
      "    at process.nextTick (internal/child_process.js:758:12)",
      "    at _combinedTickCallback (internal/process/next_tick.js:73:7)"
     ]
    }
   ],
   "source": [
    "// promisify 对 exec 的操作。新版的 node 已没有\n",
    "// node: v12.22\n",
    "const { exec } = require('child_process');\n",
    "const runIt = require('util').promisify(exec);\n",
    "let obj = runIt('ls');\n",
    "console.log(obj.child)"
   ]
  }
 ],
 "metadata": {
  "kernelspec": {
   "display_name": "JavaScript (Node.js)",
   "language": "javascript",
   "name": "javascript"
  },
  "language_info": {
   "file_extension": ".js",
   "mimetype": "application/javascript",
   "name": "javascript",
   "version": "6.11.2"
  }
 },
 "nbformat": 4,
 "nbformat_minor": 5
}
