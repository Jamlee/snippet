{
 "cells": [
  {
   "cell_type": "markdown",
   "id": "72f69bab-81d4-4e15-9aa2-0a61bd87a4a0",
   "metadata": {},
   "source": [
    "# go 项目规范\n",
    "\n",
    "## 目录结构\n",
    "https://github.com/golang-standards/project-layout/blob/master/README_zh.md"
   ]
  },
  {
   "cell_type": "code",
   "execution_count": null,
   "id": "28ca5873-641d-41dc-8058-4401791b2ef0",
   "metadata": {},
   "outputs": [],
   "source": []
  }
 ],
 "metadata": {
  "kernelspec": {
   "display_name": "Go (gonb)",
   "language": "go",
   "name": "gonb"
  },
  "language_info": {
   "codemirror_mode": "",
   "file_extension": ".go",
   "mimetype": "",
   "name": "go",
   "nbconvert_exporter": "",
   "pygments_lexer": "",
   "version": "go1.19.3"
  }
 },
 "nbformat": 4,
 "nbformat_minor": 5
}
