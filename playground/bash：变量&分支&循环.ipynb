{
 "cells": [
  {
   "cell_type": "markdown",
   "id": "1f2af4f0-fffa-4c1e-bd1b-e88e619ead94",
   "metadata": {},
   "source": [
    "# 变量"
   ]
  },
  {
   "cell_type": "markdown",
   "id": "0054310f-72f5-41f7-bbb6-58b4cd401fb9",
   "metadata": {},
   "source": [
    "## Shell Parameter Expansion\n",
    "https://www.gnu.org/software/bash/manual/html_node/Shell-Parameter-Expansion.html"
   ]
  },
  {
   "cell_type": "code",
   "execution_count": null,
   "id": "dba52896-e8e7-4334-bbc8-b3b1f7f21da2",
   "metadata": {},
   "outputs": [],
   "source": [
    "# ${parameter:+word} 和 ${parameter+word} 的区别。\n",
    "# 有 :号表示有null和空字符串时才替换。null 是未设置过的变量。\n",
    "# 省略:号表示只有null时才替换\n",
    "TEST_VAR=hello\n",
    "echo ${TEST_VAR:+word}\n",
    "echo ${UNETED_VAR:+word}\n",
    "echo ${UNETED_VAR:word}\n",
    "echo ${TEST_VAR:word}"
   ]
  },
  {
   "cell_type": "markdown",
   "id": "7c2c5569-e49d-4c2f-bd4c-7bcc4a5a22aa",
   "metadata": {},
   "source": [
    "# 循环"
   ]
  },
  {
   "cell_type": "code",
   "execution_count": null,
   "id": "0a3713ca-195e-4db8-86bf-2ee3d1bf0429",
   "metadata": {},
   "outputs": [],
   "source": [
    "# while 写法\n",
    "i=0\n",
    "while ((i<3))\n",
    "do\n",
    "    echo $i\n",
    "    i=$(($i+1))\n",
    "done\n",
    "\n",
    "echo \"------------\"\n",
    "i=0\n",
    "while [ $i -lt 3 ]\n",
    "do\n",
    "    echo $i\n",
    "    let i++\n",
    "done\n",
    "\n",
    "echo \"------------\"\n",
    "cat /etc/passwd | while read line\n",
    "do\n",
    "    echo $line\n",
    "done\n",
    "\n",
    "echo \"------------\"\n",
    "IFS=':'\n",
    "cat /etc/passwd | while read f1 f2 f3 f4 f5 f6 f7\n",
    "do\n",
    "    echo $f1\n",
    "done"
   ]
  },
  {
   "cell_type": "markdown",
   "id": "5eabb33c-555f-4d8a-aaa1-80a146e03fcc",
   "metadata": {},
   "source": [
    "# 子 Shell & 组命令"
   ]
  },
  {
   "cell_type": "code",
   "execution_count": null,
   "id": "b270f2c3-2bfe-412f-b079-fc6baf3ca652",
   "metadata": {},
   "outputs": [],
   "source": [
    "{ ls -l; echo \"hello world\"; cat /etc/passwd } > /dev/null\n",
    "(ls -l; echo \"hello world\"; cat /etc/passwd) > /dev/null"
   ]
  }
 ],
 "metadata": {
  "kernelspec": {
   "display_name": "Bash",
   "language": "bash",
   "name": "bash"
  },
  "language_info": {
   "codemirror_mode": "shell",
   "file_extension": ".sh",
   "mimetype": "text/x-sh",
   "name": "bash"
  }
 },
 "nbformat": 4,
 "nbformat_minor": 5
}
