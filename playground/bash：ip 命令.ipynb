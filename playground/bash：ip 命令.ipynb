{
 "cells": [
  {
   "cell_type": "markdown",
   "id": "52f5fa01-a49b-4898-8252-015c31be32a5",
   "metadata": {
    "tags": [
     "linux",
     "ip"
    ]
   },
   "source": [
    "# 高级路由\n",
    "\n",
    "## 案例 1\n",
    "公司内网要求 192.168.0.100 以内的使用 10.0.0.1 网关上网（电信），其他 IP 使用 20.0.0.1 （网通）上网。\n",
    "首先要在网关服务器上添加一个默认路由，当然这个指向是绝大多数的 IP 的出口网关：\n",
    "```bash\n",
    "ip route add default gw 20.0.0.1\n",
    "# 通过 ip route 添加一个路由表：\n",
    "ip route add table 3 via 10.0.0.1 dev ethX\n",
    "# 添加 ip rule 规则：\n",
    "ip rule add fwmark 3 table 3\n",
    "# 之后使用 iptables 给相应的数据打上标记：\n",
    "iptables -A PREROUTING -t mangle -i eth0 -s 192.168.0.1 -192.168.0.100 -j MARK --set-mark 3\n",
    "```\n",
    "\n",
    "https://www.codeplayer.org/Wiki/Router/%E7%AD%96%E7%95%A5%E8%B7%AF%E7%94%B1%E5%8F%8Aip%20route,ip%20rule,iptables.html\n",
    "https://blog.51cto.com/lihongweibj/1954771"
   ]
  },
  {
   "cell_type": "code",
   "execution_count": 1,
   "id": "bd69eb81-e6ac-4d83-a53e-87181e40e868",
   "metadata": {},
   "outputs": [
    {
     "name": "stdout",
     "output_type": "stream",
     "text": [
      "0:\tfrom all lookup local \n",
      "32766:\tfrom all lookup main \n",
      "32767:\tfrom all lookup default \n"
     ]
    }
   ],
   "source": [
    "ip rule list"
   ]
  }
 ],
 "metadata": {
  "kernelspec": {
   "display_name": "Bash",
   "language": "bash",
   "name": "bash"
  },
  "language_info": {
   "codemirror_mode": "shell",
   "file_extension": ".sh",
   "mimetype": "text/x-sh",
   "name": "bash"
  }
 },
 "nbformat": 4,
 "nbformat_minor": 5
}
