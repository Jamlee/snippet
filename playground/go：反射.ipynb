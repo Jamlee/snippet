{
 "cells": [
  {
   "cell_type": "markdown",
   "id": "2cd8c504-a117-40c1-80f7-46f8f123287e",
   "metadata": {},
   "source": [
    "# 反射\n",
    "\n",
    "## 接口\n",
    "任何类型只要实现 Read 或 Write 方法即实现 io.Reader 或 io.Writer 接口。意思就是：接口类型 io.Reader 可以被赋值任意实现 Read 方法的类型。\n",
    "```\n",
    "// Reader is the interface that wraps the basic Read method.\n",
    "type Reader interface {\n",
    "    Read(p []byte) (n int, err error)\n",
    "}\n",
    "\n",
    "// Writer is the interface that wraps the basic Write method.\n",
    "type Writer interface {\n",
    "    Write(p []byte) (n int, err error)\n",
    "}\n",
    "```\n",
    "\n",
    "## The Laws of Reflection\n",
    "- Reflection goes from interface value to reflection object.\n",
    "- Reflection goes from reflection object to interface value.\n",
    "- To modify a reflection object, the value must be settable."
   ]
  },
  {
   "cell_type": "code",
   "execution_count": null,
   "id": "0e25515a-06b8-4d7e-8ab6-99d745a79f1c",
   "metadata": {},
   "outputs": [],
   "source": [
    "// 接口赋值，除了空接口还有这样的形式\n",
    "func main() {\n",
    "    var r io.Reader\n",
    "    r = os.Stdin\n",
    "    r = bufio.NewReader(r)\n",
    "    r = new(bytes.Buffer)\n",
    "    fmt.Printf(\"real obj: %#v\", r)\n",
    "}"
   ]
  },
  {
   "cell_type": "code",
   "execution_count": null,
   "id": "b8e91982-df96-4dd3-b9b1-61d4bb42ef8e",
   "metadata": {},
   "outputs": [],
   "source": [
    "// 你也许会想接口在哪里，看起来只传递 float64 类型的 x 变量作为参数给 TypeOf 函数，而不是接口变量。\n",
    "// 实际上 TypeOf 函数签名中的参数是空接口，x 会先赋值给空接口，然后作为函数参数传递，TypeOf 函数内部处理空接口恢复类型信息 Type。\n",
    "func main() {\n",
    "    var x float64 = 3.4\n",
    "    fmt.Println(\"type:\", reflect.TypeOf(x))\n",
    "    fmt.Println(\"value:\", reflect.ValueOf(x).String())\n",
    "}"
   ]
  },
  {
   "cell_type": "code",
   "execution_count": null,
   "id": "6ac7efd7-ce7d-4583-9662-34466606c07c",
   "metadata": {},
   "outputs": [],
   "source": [
    "\n",
    "type User struct {\n",
    "    Id   int\n",
    "    Name string\n",
    "    Age  int\n",
    "}\n",
    "\n",
    "func (u User) ReflectCallFunc() {\n",
    "    fmt.Println(\"Allen.Wu ReflectCallFunc\")\n",
    "}\n",
    "\n",
    "func main() {\n",
    "\n",
    "    user := User{1, \"Allen.Wu\", 25}\n",
    "    DoFiledAndMethod(user)\n",
    "\n",
    "}\n",
    "\n",
    "// 通过接口来获取任意参数，然后一一揭晓\n",
    "func DoFiledAndMethod(input interface{}) {\n",
    "    getType := reflect.TypeOf(input)\n",
    "    fmt.Println(\"get Type is :\", getType.Name())\n",
    "    getValue := reflect.ValueOf(input)\n",
    "    fmt.Println(\"get all Fields is:\", getValue)\n",
    "    // 获取字段\n",
    "    // 1. 先获取interface的reflect.Type，然后通过NumField进行遍历\n",
    "    // 2. 再通过reflect.Type的Field获取其Field\n",
    "    // 3. 最后通过Field的Interface()得到对应的value\n",
    "    for i := 0; i < getType.NumField(); i++ {\n",
    "        field := getType.Field(i)\n",
    "        value := getValue.Field(i).Interface()\n",
    "        fmt.Printf(\"%s: %v = %v\\n\", field.Name, field.Type, value)\n",
    "    }\n",
    "    // 获取方法\n",
    "    // 1. 先获取interface的reflect.Type，然后通过.NumMethod进行遍历\n",
    "    for i := 0; i < getType.NumMethod(); i++ {\n",
    "        m := getType.Method(i)\n",
    "        fmt.Printf(\"%s: %v\\n\", m.Name, m.Type)\n",
    "    }\n",
    "}"
   ]
  }
 ],
 "metadata": {
  "kernelspec": {
   "display_name": "Go (gonb)",
   "language": "go",
   "name": "gonb"
  },
  "language_info": {
   "codemirror_mode": "",
   "file_extension": ".go",
   "mimetype": "",
   "name": "go",
   "nbconvert_exporter": "",
   "pygments_lexer": "",
   "version": "go1.19.3"
  }
 },
 "nbformat": 4,
 "nbformat_minor": 5
}
