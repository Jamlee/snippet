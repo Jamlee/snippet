{
 "cells": [
  {
   "cell_type": "code",
   "execution_count": 4,
   "id": "6f812654-44d3-4b9b-a966-e14ca51737fb",
   "metadata": {},
   "outputs": [
    {
     "name": "stdout",
     "output_type": "stream",
     "text": [
      "myredis\n",
      "d9fced06c0ff6222467f74df2b99f7e144f0f9893e0dbbe811138d707d468f4d\n"
     ]
    }
   ],
   "source": [
    "# 启动 redis-server\n",
    "redisImg=redis:6.2.7\n",
    "docker rm -f myredis && docker run -d --name myredis --net host ${redisImg} --requirepass \"H1llo\""
   ]
  },
  {
   "cell_type": "code",
   "execution_count": 9,
   "id": "6a6fab18-ad8d-46d5-93bc-dfafb333366e",
   "metadata": {},
   "outputs": [],
   "source": [
    "alias redis-cli=\"docker exec -i myredis redis-cli -p 6380 --no-auth-warning -a H1llo\""
   ]
  },
  {
   "cell_type": "markdown",
   "id": "4826fd55-dcd1-4f32-8361-4ddb9489704a",
   "metadata": {},
   "source": [
    "## 数据类型\n",
    "\n",
    "1. 字符串最大的值长度是 2^32 - 1 (4,294,967,295) 个 bit 位, 512MB。list 等最多2^32 - 1 (4,294,967,295) 个 bit 位, 512MB个项，也就是42亿多。\n",
    "\n",
    "https://stackoverflow.com/questions/5606106/what-is-the-maximum-value-size-you-can-store-in-redis"
   ]
  },
  {
   "cell_type": "code",
   "execution_count": 11,
   "id": "81ba833c-a08e-4100-8fc1-0dc292142c26",
   "metadata": {},
   "outputs": [
    {
     "name": "stdout",
     "output_type": "stream",
     "text": [
      "OK\n",
      "embstr\n"
     ]
    }
   ],
   "source": [
    "redis-cli set video:actor:name \"步惊云\"\n",
    "redis-cli object encoding video:actor:name"
   ]
  },
  {
   "cell_type": "markdown",
   "id": "a6515aa7-64fa-4b40-91a6-427f35d5abee",
   "metadata": {},
   "source": [
    "## 有序集合"
   ]
  },
  {
   "cell_type": "code",
   "execution_count": null,
   "id": "52f6a062-d4a4-43e9-8dcf-8b6486d12588",
   "metadata": {},
   "outputs": [],
   "source": [
    "redis-cli flushdb\n",
    "\n",
    "redis-cli zadd app:user:ranking 100 xiaohong\n",
    "redis-cli zadd app:user:ranking 72 xiaoming\n",
    "redis-cli zadd app:user:ranking 44 lihua\n",
    "redis-cli zadd app:user:ranking 199 xiaoliu\n",
    "\n",
    "# 查询用户score，不存在的返回 nil\n",
    "redis-cli zscore app:user:ranking xiaohong\n",
    "redis-cli zscore user:ranking test\n",
    "\n",
    "# 计算集合中的元素个数\n",
    "redis-cli zcard app:user:ranking\n",
    "\n",
    "# 排序\n",
    "time redis-cli zrank app:user:ranking xiaohong"
   ]
  },
  {
   "cell_type": "code",
   "execution_count": null,
   "id": "8b442820-0118-49ea-b2ba-f169087947d9",
   "metadata": {},
   "outputs": [],
   "source": [
    "redis-cli flushdb\n",
    "\n",
    "# 添加更多数据后排序\n",
    "i=0\n",
    "> /tmp/data.txt\n",
    "while ((i <1000000)); do\n",
    "    echo zadd app:user:ranking $i xiaohong${i} >> /tmp/data.txt\n",
    "    let i++\n",
    "done\n",
    "\n",
    "cat /tmp/data.txt | redis-cli --pipe\n",
    "echo \"data add ok\"\n",
    "time redis-cli zrank app:user:ranking xiaohong1888"
   ]
  },
  {
   "cell_type": "code",
   "execution_count": null,
   "id": "056b58bb-c15c-47fb-92d4-b6e4f8dd4edd",
   "metadata": {},
   "outputs": [],
   "source": [
    "# 删除\n",
    "docker rm -f myredis"
   ]
  }
 ],
 "metadata": {
  "kernelspec": {
   "display_name": "Bash",
   "language": "bash",
   "name": "bash"
  },
  "language_info": {
   "codemirror_mode": "shell",
   "file_extension": ".sh",
   "mimetype": "text/x-sh",
   "name": "bash"
  }
 },
 "nbformat": 4,
 "nbformat_minor": 5
}
