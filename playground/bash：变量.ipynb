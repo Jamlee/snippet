{
 "cells": [
  {
   "cell_type": "markdown",
   "id": "0054310f-72f5-41f7-bbb6-58b4cd401fb9",
   "metadata": {},
   "source": [
    "# Shell Parameter Expansion\n",
    "https://www.gnu.org/software/bash/manual/html_node/Shell-Parameter-Expansion.html"
   ]
  },
  {
   "cell_type": "code",
   "execution_count": 3,
   "id": "dba52896-e8e7-4334-bbc8-b3b1f7f21da2",
   "metadata": {},
   "outputs": [
    {
     "name": "stdout",
     "output_type": "stream",
     "text": [
      "word\n",
      "\n",
      "\n",
      "hello\n"
     ]
    }
   ],
   "source": [
    "# ${parameter:+word} 和 ${parameter+word} 的区别。\n",
    "# 有 :号表示有null和空字符串时才替换。null 是未设置过的变量。\n",
    "# 省略:号表示只有null时才替换\n",
    "TEST_VAR=hello\n",
    "echo ${TEST_VAR:+word}\n",
    "echo ${UNETED_VAR:+word}\n",
    "echo ${UNETED_VAR:word}\n",
    "echo ${TEST_VAR:word}"
   ]
  }
 ],
 "metadata": {
  "kernelspec": {
   "display_name": "Bash",
   "language": "bash",
   "name": "bash"
  },
  "language_info": {
   "codemirror_mode": "shell",
   "file_extension": ".sh",
   "mimetype": "text/x-sh",
   "name": "bash"
  }
 },
 "nbformat": 4,
 "nbformat_minor": 5
}
