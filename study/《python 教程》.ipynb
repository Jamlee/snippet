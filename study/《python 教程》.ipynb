{
 "cells": [
  {
   "cell_type": "markdown",
   "id": "6c6c2a17-f02e-4394-a60a-ada30af5c384",
   "metadata": {
    "tags": []
   },
   "source": [
    "# Python 教程\n",
    "\n",
    "https://docs.python.org/zh-cn/3/tutorial/introduction.html\n",
    "\n",
    "PEP8 风格指引：https://peps.python.org/pep-0008/\n"
   ]
  },
  {
   "cell_type": "markdown",
   "id": "7febc2b7-a357-4f44-8307-acfc118ed852",
   "metadata": {
    "jp-MarkdownHeadingCollapsed": true,
    "tags": []
   },
   "source": [
    "## Python 速览"
   ]
  },
  {
   "cell_type": "code",
   "execution_count": null,
   "id": "42e64370-2cbd-431d-8d54-01184a7573d8",
   "metadata": {},
   "outputs": [],
   "source": [
    "# 丢弃精度部分\n",
    "val = 10 // 3\n",
    "print(val)\n",
    "\n",
    "# 乘方\n",
    "val = 5 ** 2\n",
    "print(val)\n",
    "\n",
    "# 浮点数\n",
    "val = 4 * 3.75 - 1\n",
    "print(val)\n",
    "\n",
    "# 原始字符串\n",
    "print(r'C:\\some\\name')  \n",
    "\n",
    "# 多行字符串\n",
    "print(\"\"\"\\\n",
    "Usage: thingy [OPTIONS]\n",
    "     -h                        Display this usage message\n",
    "     -H hostname               Hostname to connect to\n",
    "\"\"\")\n",
    "\n",
    "# 重复和拼接\n",
    "print(3 * 'un' + 'ium')\n",
    "\n",
    "# 字符串中间是空白字符时，会自动合并字符串\n",
    "text = ('Put several strings within parentheses '\n",
    "        'to have them joined together.')\n",
    "print(text)\n",
    "print('Py' 'thon')\n",
    "prefix = 'Py'\n",
    "# print(prefix 'Py' ) # 这项功能只能用于两个字面值，不能用于变量或表达式。\n",
    "print(prefix + 'thon' ) # 这项功能只能用于两个字面值，不能用于变量或表达式。\n",
    "\n",
    "# 字符串除了支持「索引」字符串还支持「切片」。索引可以提取单个字符，切片 则提取子字符串\n",
    "word = 'python'\n",
    "print(word[1], word[-1], word[1:], word[1:-1])\n",
    "print(word[4:42], word[42:]) # 切片自动处理越界\n",
    "print(word[:2] + 'py') # 创建新的字符串\n",
    "\n",
    "# 字符串长度。和其他语言不一样，特殊字符如 \\n 在单引号（'...'）和双引号（\"...\"）里的意义一样。这两种引号唯一的区别是，不需要在单引号里转义双引号 \"，但必须把单引号转义成 \\'，反之亦然。\n",
    "s = 'supercalifragilisticexpialidocious'\n",
    "print(len(s))\n",
    "\n",
    "# 和字符串（及其他内置 sequence 类型）一样，列表也支持索引和切片\n",
    "squares = [1, 4, 9, 16, 25]\n",
    "print(squares, squares[0], squares[-1], squares[-3:])\n",
    "\n",
    "# 返回新列表，但是是「浅拷贝」\n",
    "print(squares[:])\n",
    "# 拼接列表\n",
    "print(squares + [36, 49, 64, 81, 100])\n",
    "\n",
    "\n",
    "# 与 immutable 字符串不同, 列表是 mutable 类型，其内容可以改变：\n",
    "cubes = [1, 8, 27, 65, 125]\n",
    "cubes[3] = 64\n",
    "cubes.append(216)\n",
    "cubes.append(7 ** 3)  \n",
    "print(cubes)\n",
    "\n",
    "# 列表切片赋值\n",
    "letters = ['a', 'b', 'c', 'd', 'e', 'f', 'g']\n",
    "letters[2:5] = ['C', 'D', 'E']\n",
    "print(letters)\n",
    "# 清空某些元素\n",
    "letters[2:5] = []\n",
    "print(letters)\n",
    "# 清空列表\n",
    "letters[:] = []\n",
    "print(letters)\n",
    "letters = ['a', 'b', 'c', 'd']\n",
    "print(len(letters))\n",
    "\n",
    "# 列表可以嵌套。元素类型也可以不一样\n",
    "a = ['a', 'b', 'c']\n",
    "n = [1, 2, 3]\n",
    "x = [a, n]\n",
    "print(x)\n"
   ]
  },
  {
   "cell_type": "code",
   "execution_count": null,
   "id": "4716df42-7d47-47e8-9c2e-473e23bf8ae0",
   "metadata": {},
   "outputs": [],
   "source": [
    "# 斐波那契数列. 多重赋值\n",
    "a, b = 0, 1\n",
    "while a < 10:\n",
    "    print(a)\n",
    "    a, b = b, a+b"
   ]
  },
  {
   "cell_type": "markdown",
   "id": "d3dbe985-6b6b-42ad-9aee-c3ead2b7fc24",
   "metadata": {
    "tags": []
   },
   "source": [
    "## 流程控制"
   ]
  },
  {
   "cell_type": "code",
   "execution_count": null,
   "id": "dbdf5eef-eb7d-4b02-87b2-4ccbd587321a",
   "metadata": {},
   "outputs": [],
   "source": [
    "# if else\n",
    "x = 1\n",
    "if x < 0:\n",
    "    x = 0\n",
    "    print('Negative changed to zero')\n",
    "elif x == 0:\n",
    "    print('Zero')\n",
    "elif x == 1:\n",
    "    print('Single')\n",
    "else:\n",
    "    print('More')\n"
   ]
  },
  {
   "cell_type": "code",
   "execution_count": null,
   "id": "4ab3540a-f64a-4d93-b80e-e40e568ea45e",
   "metadata": {},
   "outputs": [],
   "source": [
    "# for\n",
    "words = [\"foo\", \"bar\", \"cat\"]\n",
    "for w in words:\n",
    "    print(w)\n",
    "    \n",
    "\n",
    "users = {'zhao': 'active', 'qian': 'inactive', 'sun': 'active'}\n",
    "for k, v in users.copy().items():\n",
    "    if v == 'active':\n",
    "        print(k)\n",
    "        \n",
    "for i in range(3, 10):\n",
    "    print(i)\n",
    "\n",
    "for i in range(3):\n",
    "    print(i)\n",
    "    \n",
    "# range 函数。最后一个参数指定步进\n",
    "print(list(range(3)))\n",
    "print(list(range(5, 10)))\n",
    "print(list(range(0, 10, 3)))\n",
    "list(range(-10, -100, -30))\n",
    "# 本函数返回的不是 list，而是可迭代对象\n",
    "print(sum(range(4)))\n",
    "\n",
    "# 按索引迭代\n",
    "a = ['Mary', 'had', 'a', 'little', 'lamb']\n",
    "for i in range(len(a)):\n",
    "    print(i, a[i])\n"
   ]
  },
  {
   "cell_type": "code",
   "execution_count": null,
   "id": "2116d562-254c-4133-81e6-a5f094f2067c",
   "metadata": {},
   "outputs": [],
   "source": [
    "# for 也有 else. 遍历完了之后没有 break 会进入 else\n",
    "for n in range(2, 10):\n",
    "    for x in range(2, n):\n",
    "        if n % x == 0:\n",
    "            print(n, 'equals', x, '*', n//x)\n",
    "            break\n",
    "    else:\n",
    "        # loop fell through without finding a factor\n",
    "        print(n, 'is a prime number')\n",
    "        \n",
    "\n",
    "for n in range(2, 10):\n",
    "    if n > 10:\n",
    "        break\n",
    "else:\n",
    "    print('n > 10, fail')\n",
    "    \n",
    "\n",
    "for n in range(2, 10):\n",
    "    if n > 5:\n",
    "        break\n",
    "else:\n",
    "    print('n > 10, fail')\n",
    "\n",
    "    \n",
    "# continue 语句\n",
    "for n in range(2, 10):\n",
    "    continue\n",
    "\n",
    "     \n",
    "# pass 语句\n",
    "def hello:\n",
    "    pass\n",
    "\n",
    "for n in range(2, 10):\n",
    "    pass\n",
    "\n",
    "class MyEmptyClass:\n",
    "    pass\n",
    "\n",
    "def initlog(*args):\n",
    "    pass   # Remember to implement this!\n"
   ]
  },
  {
   "cell_type": "code",
   "execution_count": null,
   "id": "718120c3-188f-4729-b421-21dd5e8cc6c6",
   "metadata": {},
   "outputs": [],
   "source": [
    "# match 语句。https://docs.python.org/zh-cn/3/tutorial/controlflow.html#match-statements\n",
    "def http_error(status):\n",
    "    match status:\n",
    "        case 400:\n",
    "            return \"Bad request\"\n",
    "        case 404:\n",
    "            return \"Not found\"\n",
    "        case 418:\n",
    "            return \"I'm a teapot\"\n",
    "        case _:\n",
    "            return \"Something's wrong with the internet\" # “变量名” _ 被作为 通配符 并必定会匹配成功\n",
    "\n",
    "print(http_error(400))\n",
    "\n",
    "\n",
    "# 字面量 (Literal) 模式\n",
    "number = 1 \n",
    "match number:\n",
    "    case 0:\n",
    "        print('zero')\n",
    "    case 1:\n",
    "        print('one')\n",
    "    case 2:\n",
    "        print('two')\n",
    "\n",
    "\n",
    "# 捕捉 (Capture) 模式。可以匹配单个表达式的赋值目标。\n",
    "def capture(greeting):\n",
    "    match greeting:\n",
    "        case \"\":\n",
    "            print(\"Hello!\")\n",
    "        case name:\n",
    "            print(f\"Hi {name}!\")\n",
    "    if name == \"Santa\":\n",
    "        print('Match')\n",
    "\n",
    "capture('name')\n",
    "        \n",
    "\n",
    "# 序列 (Sequence) 模式\n",
    "def sequence(collection):\n",
    "    match collection:\n",
    "        case 1, [x, *others]:\n",
    "            print(f\"Got 1 and a nested sequence: {x=}, {others=}\")\n",
    "        case (1, x):\n",
    "            print(f\"Got 1 and {x}\")\n",
    "        case [x, y, z]:\n",
    "            print(f\"{x=}, {y=}, {z=}\")\n",
    "\n",
    "sequence([1])\n",
    "sequence([1, 2])\n",
    "sequence([1, 2, 3])\n",
    "sequence([1, [2, 3]])\n",
    "\n",
    "\n",
    "# 通配符模式\n",
    "def wildcard(data):\n",
    "    match data:\n",
    "        case [_, _]:\n",
    "            print('Some pair')\n",
    "wildcard(None)\n",
    "wildcard([1])\n",
    "wildcard([1, 2])\n",
    "\n",
    "def sequence2(collection):\n",
    "    match collection:\n",
    "        case [\"a\", *_, \"z\"]:\n",
    "            print('matches any sequence of length two or more that starts with \"a\" and ends with \"z\".')\n",
    "        case (_, _, *_):\n",
    "            print('matches any sequence of length two or more.')\n",
    "        case [*_]:\n",
    "            print('matches a sequence of any length.')\n",
    "\n",
    "sequence2(['a', 2, 3, 'z'])\n",
    "sequence2(['a', 2, 3, 'b'])\n",
    "sequence2(['a', 'b'])\n",
    "sequence2(['a'])\n",
    "\n",
    "\n",
    "# 枚举模式\n",
    "class Color:\n",
    "    RED = 1\n",
    "    GREEN = 2\n",
    "    BLUE = 3\n",
    "class NewColor:\n",
    "    YELLOW = 4\n",
    "\n",
    "def constant_value(color):\n",
    "    match color:\n",
    "        case Color.RED:\n",
    "            print('Red')\n",
    "        case NewColor.YELLOW:\n",
    "            print('Yellow')\n",
    "        case new_color:\n",
    "            print(new_color)\n",
    "\n",
    "print(Color.RED)\n",
    "print(4)\n",
    "\n",
    "# 映射模式\n",
    "def mapping(config):\n",
    "    match config:\n",
    "        case {'sub': sub_config, **rest}:\n",
    "            print(f'Sub: {sub_config}')\n",
    "            print(f'OTHERS: {rest}')\n",
    "        case {'route': route}:\n",
    "            print(f'ROUTE: {route}')\n",
    "mapping({})\n",
    "mapping({'route': '/auth/login'})\n",
    "mapping({'route': '/auth/login', 'sub': {'a': 1}})  \n",
    "\n",
    "\n",
    "# 类模式\n",
    "class Point:\n",
    "    def __init__(self, x, y):\n",
    "        self.x = x\n",
    "        self.y = y\n",
    "def class_pattern(obj):\n",
    "    match obj:\n",
    "        case Point(x=1,y=2):\n",
    "            print(f'match', obj.x, obj.y)\n",
    "        case Point(x=x,y=y): # 赋值给 x 和 y 变量\n",
    "            print(f'Point({x=},{y=})')\n",
    "class_pattern(Point(1, 2))\n",
    "class_pattern(Point(1, 3))\n",
    "\n",
    "\n",
    "# 组合模式\n",
    "def or_pattern(obj):\n",
    "    match obj:\n",
    "        case 0 | 1 | 2: # 0,1,2三个数字匹配\n",
    "            print('small number')\n",
    "        case list() | set():  # 列表或者集合匹配\n",
    "            print('list or set')\n",
    "        case str() | bytes():  # 字符串或者bytes符合\n",
    "            print('str or bytes')\n",
    "        case Point(x, y) | Point2(x, y):  # 借用之前的2个类，其中之一符合即可\n",
    "            print(f'{x=},{y=}')\n",
    "        case [x] | x:  # 列表且只有一个元素或者单个值符合\n",
    "            print(f'{x=}')\n",
    "or_pattern(1)\n",
    "or_pattern([])\n",
    "\n",
    "# as 模式\n",
    "def as_pattern(obj):\n",
    "    match obj:\n",
    "        case str() as s:\n",
    "            print(f'Got str: {s=}')\n",
    "        case [0, int() as i]:\n",
    "            print(f'Got int: {i=}')\n",
    "        case [tuple() as tu]:\n",
    "            print(f'Got tuple: {tu=}')\n",
    "        case list() | set() | dict() as iterable:\n",
    "            print(f'Got iterable: {iterable=}')\n",
    "as_pattern('sss')\n",
    "\n",
    "# 条件\n",
    "def go(obj):\n",
    "    match obj:\n",
    "        case ['go', direction] if direction in ['east', 'north']:\n",
    "            print('Right way')\n",
    "        case direction if direction == 'west':\n",
    "            print('Wrong way')\n",
    "        case ['go', _] | _:\n",
    "            print('Other way')\n",
    "go(['go', 'east'])  \n",
    "go(['west'])  "
   ]
  },
  {
   "cell_type": "code",
   "execution_count": null,
   "id": "31130a39-63f8-44aa-aced-8b8a1f910eaa",
   "metadata": {},
   "outputs": [],
   "source": [
    "# 类模式方案\n",
    "from dataclasses import dataclass\n",
    "class Point:\n",
    "    __match_args__ = ('x', 'y')\n",
    "\n",
    "    def __init__(self, x, y):\n",
    "        self.x = x\n",
    "        self.y = y\n",
    "@dataclass\n",
    "class Point2:\n",
    "    x: int\n",
    "    y: int\n",
    "\n",
    "def class_pattern(obj):\n",
    "    match obj:\n",
    "        case Point(x, y):\n",
    "            print(f'Point({x=},{y=})')\n",
    "        case Point2(x, y):\n",
    "            print(f'Point2({x=},{y=})')\n",
    "\n",
    "class_pattern(Point(1, 2))\n",
    "class_pattern(Point(1, 3))\n"
   ]
  },
  {
   "cell_type": "code",
   "execution_count": null,
   "id": "0cec881f-cb30-4918-aa16-cede1c5b3e15",
   "metadata": {},
   "outputs": [],
   "source": [
    "# 解包列表\n",
    "args = [3, 6]\n",
    "list(range(*args))      \n",
    "\n",
    "# 解包字典\n",
    "def parrot(voltage, state='a stiff', action='voom'):\n",
    "    print(\"-- This parrot wouldn't\", action, end=' ')\n",
    "    print(\"if you put\", voltage, \"volts through it.\", end=' ')\n",
    "    print(\"E's\", state, \"!\")\n",
    "\n",
    "d = {\"voltage\": \"four million\", \"state\": \"bleedin' demised\", \"action\": \"VOOM\"}\n",
    "parrot(**d)"
   ]
  },
  {
   "cell_type": "code",
   "execution_count": null,
   "id": "730ad72a-7c8e-4827-8e1f-fe9be94d2564",
   "metadata": {},
   "outputs": [],
   "source": [
    "# lambda\n",
    "print((lambda x: x + 1)(2))"
   ]
  },
  {
   "cell_type": "code",
   "execution_count": null,
   "id": "eac048df-c343-41c6-9f69-56149fb76c45",
   "metadata": {},
   "outputs": [],
   "source": [
    "# 1. 把形参标记为 仅限关键字，表明必须以关键字参数形式传递该形参，应在参数列表中第一个 仅限关键字 形参前添加 *。\n",
    "# 2. 仅限位置形参应放在 /（正斜杠）前。/ 用于在逻辑上分割仅限位置形参与其它形参。如果函数定义中没有 /，则表示没有仅限位置形参。\n",
    "\n",
    "# / 向前影响 (使得前面的参数只能用位置), * 向后影响（使得后面的只能用keyword)\n",
    "def standard_arg(arg):\n",
    "    print(arg)\n",
    "\n",
    "def pos_only_arg(arg, /):\n",
    "    print(arg)\n",
    "\n",
    "def kwd_only_arg(*, arg):\n",
    "    print(arg)\n",
    "\n",
    "def combined_example(pos_only, /, standard, *, kwd_only):\n",
    "    print(pos_only, standard, kwd_only)\n",
    "    \n",
    "standard_arg(2)\n",
    "standard_arg(arg=2)\n",
    "\n",
    "pos_only_arg(3)\n",
    "# pos_only_arg(arg = 3)\n"
   ]
  },
  {
   "cell_type": "code",
   "execution_count": null,
   "id": "d91e350f-8e7f-4407-971c-5df2d29d5069",
   "metadata": {},
   "outputs": [],
   "source": [
    "# 函数注解\n",
    "def f(ham: str, eggs: str = 'eggs') -> str:\n",
    "    print(\"Annotations:\", f.__annotations__)\n",
    "    print(\"Arguments:\", ham, eggs)\n",
    "    return ham + ' and ' + eggs\n",
    "\n",
    "f('spam')\n",
    "\n",
    "# 函数文档\n",
    "def my_function():\n",
    "    \"\"\"Do nothing, but document it.\n",
    "\n",
    "    No, really, it doesn't do anything.\n",
    "    \"\"\"\n",
    "    pass\n",
    "\n",
    "print(my_function.__doc__)\n"
   ]
  },
  {
   "cell_type": "code",
   "execution_count": 210,
   "id": "612ffbb7-a6ac-4fbe-8561-b79da228a948",
   "metadata": {},
   "outputs": [],
   "source": [
    "# 函数赋值给变量\n",
    "def fun():\n",
    "    pass\n",
    "f = fun\n"
   ]
  },
  {
   "cell_type": "markdown",
   "id": "eb439fe5-3b2c-4871-8f7d-046559c029d1",
   "metadata": {
    "jp-MarkdownHeadingCollapsed": true,
    "tags": []
   },
   "source": [
    "## 数据结构"
   ]
  },
  {
   "cell_type": "code",
   "execution_count": null,
   "id": "06f1ccda-f39f-4bd3-b992-e2a0d92e41a7",
   "metadata": {},
   "outputs": [],
   "source": [
    "# 列表\n",
    "# 嵌套的列表推导式\n",
    "matrix = [\n",
    "    [1, 2, 3, 4],\n",
    "    [5, 6, 7, 8],\n",
    "    [9, 10, 11, 12],\n",
    "]\n",
    "[[row[i] for row in matrix] for i in range(4)]"
   ]
  },
  {
   "cell_type": "code",
   "execution_count": null,
   "id": "9323dccc-5482-4bc6-b4b4-821c33bc8e98",
   "metadata": {},
   "outputs": [],
   "source": [
    "# 元组和序列\n",
    "t = 12345, 54321, 'hello!'\n",
    "print(t)\n",
    "u = t, (1, 2, 3, 4, 5)\n",
    "print(u)"
   ]
  },
  {
   "cell_type": "code",
   "execution_count": null,
   "id": "34cd6a4e-4704-4e61-b4ce-9a8f7196dafc",
   "metadata": {},
   "outputs": [],
   "source": [
    "# 集合。创建空集合只能用 set()，不能用 {}，{} 创建的是空字典，下一小节介绍数据结构：字典。\n",
    "basket = {'apple', 'orange', 'apple', 'pear', 'orange', 'banana'}\n",
    "print(basket)\n",
    "print('orange' in basket)\n",
    "print(set(), {}) # 空集合\n",
    "\n",
    "a = set('abracadabra')\n",
    "b = set('alacazam')\n",
    "print(a)\n",
    "print(a - b)\n",
    "print(a | b)\n",
    "print(a & b)\n",
    "print(a ^ b)\n",
    "\n",
    "# 集合也支持推导式\n",
    "a = {x for x in 'abracadabra' if x not in 'abc'}\n",
    "print(a)"
   ]
  },
  {
   "cell_type": "code",
   "execution_count": null,
   "id": "a447aed6-6f2d-41f9-b574-6d8667c3508b",
   "metadata": {},
   "outputs": [],
   "source": [
    "# 字典\n",
    "tel = {'jack': 4098, 'sape': 4139}\n",
    "tel['guido'] = 4127\n",
    "print(tel)\n",
    "\n",
    "# 从序列中添加\n",
    "print(dict([('sape', 4139), ('guido', 4127), ('jack', 4098)]))\n",
    "\n",
    "# 推导式，注意for前面有键值对\n",
    "print({x: x**2 for x in (2, 4, 6)})"
   ]
  },
  {
   "cell_type": "code",
   "execution_count": null,
   "id": "0b1aa827-05a1-4839-9302-109a4bc808e3",
   "metadata": {},
   "outputs": [],
   "source": [
    "# 循环的技巧\n",
    "\n",
    "# 循环时同时取出键值对\n",
    "knights = {'gallahad': 'the pure', 'robin': 'the brave'}\n",
    "for k, v in knights.items():\n",
    "    print(k, v)\n",
    "\n",
    "# 循环时同时取出列表索引和值\n",
    "for i, v in enumerate(['tic', 'tac', 'toe']):\n",
    "    print(i, v)\n",
    "\n",
    "    \n",
    "# zip 形成键和值\n",
    "questions = ['name', 'quest', 'favorite color']\n",
    "answers = ['lancelot', 'the holy grail', 'blue']\n",
    "for q, a in zip(questions, answers):\n",
    "    print('What is your {0}?  It is {1}.'.format(q, a))\n",
    "\n",
    "# 反向列表\n",
    "for i in reversed(range(1, 10, 2)):\n",
    "    print(i)\n",
    "\n",
    "# 排序列表\n",
    "basket = ['apple', 'orange', 'apple', 'pear', 'orange', 'banana']\n",
    "for i in sorted(basket):\n",
    "    print(i)\n",
    "    \n",
    "# 排序+去重\n",
    "basket = ['apple', 'orange', 'apple', 'pear', 'orange', 'banana']\n",
    "for f in sorted(set(basket)):\n",
    "    print(f)\n",
    "\n",
    "# 循环中修改数据，使用新的列表比较安全\n",
    "import math\n",
    "raw_data = [56.2, float('NaN'), 51.7, 55.3, 52.5, float('NaN'), 47.8]\n",
    "filtered_data = []\n",
    "for value in raw_data:\n",
    "    if not math.isnan(value):\n",
    "        filtered_data.append(value)\n"
   ]
  },
  {
   "cell_type": "code",
   "execution_count": null,
   "id": "af2d2dbe-3a6b-4d93-9088-d96f1637567e",
   "metadata": {},
   "outputs": [],
   "source": [
    "# 深入条件控制\n",
    "string1, string2, string3 = '', 'Trondheim', 'Hammer Dance'\n",
    "non_null = string1 or string2 or string3\n",
    "print(non_null)"
   ]
  },
  {
   "cell_type": "markdown",
   "id": "589b5987-b503-4c3b-8b50-2da380ccb19b",
   "metadata": {},
   "source": [
    "## 模块"
   ]
  },
  {
   "cell_type": "code",
   "execution_count": null,
   "id": "747327dc-3d27-43e7-b66e-d3c1b7f7a49f",
   "metadata": {},
   "outputs": [],
   "source": [
    "# dir 函数查找模块定义的名称\n",
    "import sys\n",
    "print(dir(sys))\n",
    "\n",
    "import builtins\n",
    "print(dir(builtins))"
   ]
  },
  {
   "cell_type": "markdown",
   "id": "26f59cfa-c01c-4f2f-a346-13f41327edae",
   "metadata": {
    "jp-MarkdownHeadingCollapsed": true,
    "tags": []
   },
   "source": [
    "## 输入和输出"
   ]
  },
  {
   "cell_type": "code",
   "execution_count": null,
   "id": "eb2708dd-4bfa-4064-bdf3-9ba5685a5e73",
   "metadata": {},
   "outputs": [],
   "source": [
    "# 格式化字符串字面值 （简称为 f-字符串）在字符串前加前缀 f 或 F，通过 {expression} 表达式，把 Python 表达式的值添加到字符串内。\n",
    "import math\n",
    "\n",
    "# 下例将 pi 舍入到小数点后三位：\n",
    "print(f'The value of pi is approximately {math.pi:.3f}.')\n",
    "\n",
    "# 在 ':' 后传递整数，为该字段设置最小字符宽度，常用于列对齐：\n",
    "table = {'Sjoerd': 4127, 'Jack': 4098, 'Dcab': 7678}\n",
    "for name, phone in table.items():\n",
    "    print(f'{name:10} ==> {phone:10d}')\n",
    "\n",
    "#  '!a' 应用 ascii() ，'!s' 应用 str()，'!r' 应用 repr()：\n",
    "animals = 'eels'\n",
    "print(f'My hovercraft is full of {animals}.')\n",
    "print(f'My hovercraft is full of {animals!r}.')\n",
    "\n",
    "# The = specifier can be used to expand an expression to the text of the expression, an equal sign, then the representation of the evaluated expression:\n",
    "bugs = 'roaches'\n",
    "count = 13\n",
    "area = 'living room'\n",
    "print(f'Debugging {bugs=} {count=} {area=}')\n",
    "\n",
    "\n",
    "########################################################################\n",
    "# format 函数\n",
    "\n",
    "# 字典和format\n",
    "table = {'Sjoerd': 4127, 'Jack': 4098, 'Dcab': 8637678}\n",
    "print('Jack: {0[Jack]:d}; Sjoerd: {0[Sjoerd]:d}; '\n",
    "      'Dcab: {0[Dcab]:d}'.format(table))\n",
    "\n",
    "# 手动格式化\n",
    "for x in range(1, 11):\n",
    "    print(repr(x).rjust(2), repr(x*x).rjust(3), end=' ')\n",
    "    # Note use of 'end' on previous line\n",
    "    print(repr(x*x*x).rjust(4))"
   ]
  },
  {
   "cell_type": "code",
   "execution_count": null,
   "id": "01637644-2522-47f0-a6d2-6b4b6ed376c5",
   "metadata": {},
   "outputs": [],
   "source": [
    "# 读写文件\n",
    "# f = open('/etc/hosts', 'w', encoding=\"utf-8\")\n",
    "# print(f.closed)\n",
    "\n",
    "# 在处理文件对象时，最好使用 with 关键字。优点是，子句体结束后，文件会正确关闭，即便触发异常也可以。而且，使用 with 相比等效的 try-finally 代码块要简短得多：\n",
    "with open('/etc/hostname', encoding=\"utf-8\") as f:\n",
    "    print(f.read())\n",
    "print(f.closed)\n",
    "\n"
   ]
  },
  {
   "cell_type": "markdown",
   "id": "eac591e9-d339-4afc-95ed-252972958fe7",
   "metadata": {
    "jp-MarkdownHeadingCollapsed": true,
    "tags": []
   },
   "source": [
    "## 异常处理"
   ]
  },
  {
   "cell_type": "code",
   "execution_count": null,
   "id": "0c36388c-1a18-43d5-8c34-fd887feef1bb",
   "metadata": {},
   "outputs": [],
   "source": [
    "# try 语句可以有多个 except 子句 来为不同的异常指定处理程序。 但最多只有一个处理程序会被执行。 \n",
    "# 处理程序只处理对应的 try 子句 中发生的异常，而不处理同一 try 语句内其他处理程序中的异常。 except 子句 可以用带圆括号的元组来指定多个异常，例如:\n",
    "while True:\n",
    "    try:\n",
    "        x = int(input(\"Please enter a number: \"))\n",
    "        break\n",
    "    except ValueError:\n",
    "        print(\"Oops!  That was no valid number.  Try again...\")\n"
   ]
  },
  {
   "cell_type": "code",
   "execution_count": null,
   "id": "ba60f0b5-8587-4b64-b409-2ba4ec4d968f",
   "metadata": {},
   "outputs": [],
   "source": [
    "import sys\n",
    "\n",
    "try:\n",
    "    f = open('myfile.txt')\n",
    "    s = f.readline()\n",
    "    i = int(s.strip())\n",
    "except OSError as err:\n",
    "    print(\"OS error:\", err)\n",
    "except ValueError:\n",
    "    print(\"Could not convert data to an integer.\")\n",
    "except Exception as err:\n",
    "    print(f\"Unexpected {err=}, {type(err)=}\")\n",
    "    raise"
   ]
  },
  {
   "cell_type": "code",
   "execution_count": null,
   "id": "42a12a0c-e544-4391-a7ec-9306c47ee0be",
   "metadata": {},
   "outputs": [],
   "source": [
    "# 异常链\n",
    "try:\n",
    "    open(\"database.sqlite\")\n",
    "except OSError:\n",
    "    raise RuntimeError(\"unable to handle error\")\n"
   ]
  },
  {
   "cell_type": "code",
   "execution_count": null,
   "id": "4be2e1ff-0bcf-4da4-a36c-7570ad338c84",
   "metadata": {},
   "outputs": [],
   "source": [
    "def func():\n",
    "    raise ConnectionError\n",
    "\n",
    "try:\n",
    "    func()\n",
    "except ConnectionError as exc:\n",
    "    raise RuntimeError('Failed to open database') from exc\n"
   ]
  },
  {
   "cell_type": "code",
   "execution_count": null,
   "id": "6531988d-272e-4cf6-9755-a1dde4994523",
   "metadata": {},
   "outputs": [],
   "source": [
    "# 定义清理\n",
    "try:\n",
    "    raise KeyboardInterrupt\n",
    "finally:\n",
    "    print('Goodbye, world!')"
   ]
  },
  {
   "cell_type": "code",
   "execution_count": null,
   "id": "9bc243d3-dee8-45a8-bb1c-9a0a50f9988b",
   "metadata": {},
   "outputs": [],
   "source": [
    "# 预定义了清理操作\n",
    "with open(\"myfile.txt\") as f:\n",
    "    for line in f:\n",
    "        print(line, end=\"\")\n"
   ]
  },
  {
   "cell_type": "code",
   "execution_count": null,
   "id": "7509d17d-b8c7-4df9-9ccf-4c375b63cfe7",
   "metadata": {},
   "outputs": [],
   "source": [
    "# 包装异常\n",
    "def f():\n",
    "    excs = [OSError('error 1'), SystemError('error 2')]\n",
    "    raise ExceptionGroup('there were problems', excs)\n",
    "\n",
    "f()\n"
   ]
  },
  {
   "cell_type": "code",
   "execution_count": null,
   "id": "b76786ca-671e-4c39-a7a6-e3c8499bc275",
   "metadata": {},
   "outputs": [],
   "source": [
    "# 异常添加信息\n",
    "def f():\n",
    "    raise OSError('operation failed')\n",
    "\n",
    "excs = []\n",
    "for i in range(3):\n",
    "    try:\n",
    "        f()\n",
    "    except Exception as e:\n",
    "        e.add_note(f'Happened in Iteration {i+1}')\n",
    "        excs.append(e)\n",
    "\n",
    "raise ExceptionGroup('We have some problems', excs)"
   ]
  },
  {
   "cell_type": "markdown",
   "id": "11a9552b-1b01-4e23-af54-7d31f70e7a07",
   "metadata": {
    "jp-MarkdownHeadingCollapsed": true,
    "tags": []
   },
   "source": [
    "## 类"
   ]
  },
  {
   "cell_type": "code",
   "execution_count": 189,
   "id": "eaf621d0-b22e-4077-aa7e-baf7fe9ff98d",
   "metadata": {},
   "outputs": [],
   "source": [
    "class MyClass:\n",
    "    \"\"\"A simple example class\"\"\"\n",
    "    i = 12345\n",
    "\n",
    "    def f(self):\n",
    "        return 'hello world'"
   ]
  },
  {
   "cell_type": "code",
   "execution_count": 190,
   "id": "63750044-e7ce-4f07-adeb-6616039e4bb0",
   "metadata": {},
   "outputs": [
    {
     "data": {
      "text/plain": [
       "(3.0, -4.5)"
      ]
     },
     "execution_count": 190,
     "metadata": {},
     "output_type": "execute_result"
    }
   ],
   "source": [
    "class Complex:\n",
    "    def __init__(self, realpart, imagpart):\n",
    "        self.r = realpart\n",
    "        self.i = imagpart\n",
    "\n",
    "x = Complex(3.0, -4.5)\n",
    "x.r, x.i"
   ]
  },
  {
   "cell_type": "code",
   "execution_count": 192,
   "id": "39d4ee00-a76d-436f-b691-cac56cb7e0ac",
   "metadata": {},
   "outputs": [
    {
     "name": "stdout",
     "output_type": "stream",
     "text": [
      "storage west\n",
      "storage east\n"
     ]
    }
   ],
   "source": [
    "# 如果同样的属性名称同时出现在实例和类中，则属性查找会优先选择实例:\n",
    "class Warehouse:\n",
    "   purpose = 'storage'\n",
    "   region = 'west'\n",
    "\n",
    "w1 = Warehouse()\n",
    "print(w1.purpose, w1.region)\n",
    "w2 = Warehouse()\n",
    "w2.region = 'east'\n",
    "print(w2.purpose, w2.region)"
   ]
  },
  {
   "cell_type": "code",
   "execution_count": null,
   "id": "a4b6670b-413f-44db-994d-9eafc64a6eec",
   "metadata": {},
   "outputs": [],
   "source": [
    "# 那种仅限从一个对象内部访问的“私有”实例变量在 Python 中并不存在。\n",
    "# 但是，大多数 Python 代码都遵循这样一个约定：带有一个下划线的名称 (例如 _spam) 应该被当作是 API 的非公有部分 (无论它是函数、方法或是数据成员)。 \n",
    "# 这应当被视为一个实现细节，可能不经通知即加以改变。\n",
    "\n",
    "# 特殊方法\n",
    "https://docs.python.org/zh-cn/3/reference/datamodel.html#special-method-names"
   ]
  },
  {
   "cell_type": "markdown",
   "id": "7b9da454-d363-447e-b274-4b5dce6dd9a8",
   "metadata": {
    "tags": []
   },
   "source": [
    "## 书外知识"
   ]
  },
  {
   "cell_type": "code",
   "execution_count": 197,
   "id": "bcc3270a-5f7d-43a7-9148-5af01648051a",
   "metadata": {},
   "outputs": [
    {
     "name": "stdout",
     "output_type": "stream",
     "text": [
      "configparser\n",
      "__main__\n",
      "__main__\n"
     ]
    }
   ],
   "source": [
    "# __main__ 的定义在哪里？\n",
    "# https://docs.python.org/zh-cn/3/library/__main__.html\n",
    "import configparser\n",
    "print(configparser.__name__)\n",
    "print(__name__)\n",
    "\n",
    "if __name__ == '__main__':\n",
    "    print(__name__)"
   ]
  },
  {
   "cell_type": "code",
   "execution_count": 209,
   "id": "a77bb4fb-4bb3-46a2-ba88-2d92e09bb765",
   "metadata": {},
   "outputs": [
    {
     "name": "stdout",
     "output_type": "stream",
     "text": [
      "a is b: True\n",
      "a is b: True\n"
     ]
    }
   ],
   "source": [
    "# python 有 == 和 === 吗？\n",
    "\n",
    "x = 1\n",
    "# print('x == 1:', x is 1)\n",
    "\n",
    "a = 1\n",
    "b = 1\n",
    "print('a is b:', a is b)\n",
    "\n",
    "a = [1, 2, 3]\n",
    "b = a\n",
    "print('a is b:', a is b)\n"
   ]
  }
 ],
 "metadata": {
  "kernelspec": {
   "display_name": "Python 3 (ipykernel)",
   "language": "python",
   "name": "python3"
  },
  "language_info": {
   "codemirror_mode": {
    "name": "ipython",
    "version": 3
   },
   "file_extension": ".py",
   "mimetype": "text/x-python",
   "name": "python",
   "nbconvert_exporter": "python",
   "pygments_lexer": "ipython3",
   "version": "3.10.9"
  }
 },
 "nbformat": 4,
 "nbformat_minor": 5
}
