{
 "cells": [
  {
   "cell_type": "code",
   "execution_count": null,
   "id": "6f5bcc1d-a4be-410e-b9ce-48030fb54b65",
   "metadata": {},
   "outputs": [],
   "source": [
    "var http = require('http');\n",
    "\n",
    "//create a server object:\n",
    "http.createServer(function (req, res) {\n",
    "  res.write('Hello World!'); //write a response to the client\n",
    "  res.end(); //end the response\n",
    "}).listen(8088); //the server object listens on port 8080"
   ]
  }
 ],
 "metadata": {
  "kernelspec": {
   "display_name": "JavaScript (Node.js)",
   "language": "javascript",
   "name": "javascript"
  },
  "language_info": {
   "file_extension": ".js",
   "mimetype": "application/javascript",
   "name": "javascript",
   "version": "16.13.1"
  }
 },
 "nbformat": 4,
 "nbformat_minor": 5
}
