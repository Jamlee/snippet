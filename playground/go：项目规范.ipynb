{
 "cells": [
  {
   "cell_type": "markdown",
   "id": "72f69bab-81d4-4e15-9aa2-0a61bd87a4a0",
   "metadata": {},
   "source": [
    "# go 项目规范\n",
    "\n",
    "## 目录结构\n",
    "https://github.com/golang-standards/project-layout/blob/master/README_zh.md"
   ]
  },
  {
   "cell_type": "markdown",
   "id": "fdcd490b-f32e-4550-a622-3371125377e7",
   "metadata": {},
   "source": [
    "## JSON 序列化"
   ]
  },
  {
   "cell_type": "markdown",
   "id": "b840364a-fbf2-44f4-aa01-b72263042535",
   "metadata": {},
   "source": [
    "### unmarshal (string 转为 struct)"
   ]
  },
  {
   "cell_type": "code",
   "execution_count": 4,
   "id": "d66e0940-6c63-4cc7-9a08-d20e8e01412b",
   "metadata": {},
   "outputs": [
    {
     "name": "stdout",
     "output_type": "stream",
     "text": [
      "{\"name\":\"Mr Dummy\",\"number\":4,\"pointer\":\"yes\"}\n",
      "{}\n"
     ]
    }
   ],
   "source": [
    "// omitempty，转成字符串时零值忽略\n",
    "import (\n",
    "\t\"encoding/json\"\n",
    "\t\"fmt\"\n",
    "\t\"os\"\n",
    ")\n",
    "\n",
    "type Dummy struct {\n",
    "\tName    string  `json:\"name,omitempty\"`\n",
    "\tNumber  int64   `json:\"number,omitempty\"`\n",
    "\tPointer *string `json:\"pointer,omitempty\"`\n",
    "}\n",
    "\n",
    "func main() {\n",
    "\tpointer := \"yes\"\n",
    "\n",
    "\tdummyComplete := Dummy{\n",
    "\t\tName:    \"Mr Dummy\",\n",
    "\t\tNumber:  4,\n",
    "\t\tPointer: &pointer,\n",
    "\t}\n",
    "\n",
    "\tdata,\n",
    "\t\terr := json.Marshal(dummyComplete)\n",
    "\tif err != nil {\n",
    "\t\tfmt.Println(\"An error occured: %v\", err)\n",
    "\t\tos.Exit(1)\n",
    "\t}\n",
    "\n",
    "\tfmt.Println(string(data))\n",
    "\n",
    "\t// ALL of those are considered empty by Go\n",
    "\tdummyNilPointer := Dummy{\n",
    "\t\tName:    \"\",\n",
    "\t\tNumber:  0,\n",
    "\t\tPointer: nil,\n",
    "\t}\n",
    "\n",
    "\tdataNil,\n",
    "\t\terr := json.Marshal(dummyNilPointer)\n",
    "\tif err != nil {\n",
    "\t\tfmt.Println(\"An error occured: %v\", err)\n",
    "\t\tos.Exit(1)\n",
    "\t}\n",
    "\n",
    "\tfmt.Println(string(dataNil))\n",
    "\n",
    "}\n"
   ]
  },
  {
   "cell_type": "code",
   "execution_count": 7,
   "id": "a1d03858-ddb4-4d7e-9986-6fce82821154",
   "metadata": {},
   "outputs": [
    {
     "name": "stdout",
     "output_type": "stream",
     "text": [
      "{Name:Mr Dummy}\n"
     ]
    }
   ],
   "source": [
    "// json中有，而结构体中没有的字段，转换时会忽略\n",
    "import (\n",
    "\t\"encoding/json\"\n",
    "\t\"fmt\"\n",
    "\t\"os\"\n",
    ")\n",
    "\n",
    "// let's change the struct:\n",
    "type Dummy struct {\n",
    "\t// we only care about the name now\n",
    "\tName string `json:\"name\"`\n",
    "\t// all other fields are gone\n",
    "}\n",
    "\n",
    "func main() {\n",
    "\tdata := []byte(`\n",
    "            {\n",
    "                \"name\": \"Mr Dummy\",\n",
    "                \"number\": 4,\n",
    "                \"pointer\": \"yes\"\n",
    "            }\n",
    "        `)\n",
    "\tvar dummy Dummy\n",
    "\terr := json.Unmarshal(data, &dummy)\n",
    "\tif err != nil {\n",
    "\t\tfmt.Println(\"An error occured: %v\", err)\n",
    "\t\tos.Exit(1)\n",
    "\t}\n",
    "\n",
    "\t// we want to print the field names as well\n",
    "\tfmt.Printf(\"%+v\\n\", dummy)\n",
    "}\n"
   ]
  },
  {
   "cell_type": "code",
   "execution_count": 5,
   "id": "056cb5f1-cad7-4a67-8744-acd87ebc06ef",
   "metadata": {},
   "outputs": [
    {
     "name": "stdout",
     "output_type": "stream",
     "text": [
      "{Name:Mr Dummy Number:4 Pointer:<nil>}\n"
     ]
    }
   ],
   "source": [
    "import (\n",
    "\t\"encoding/json\"\n",
    "\t\"fmt\"\n",
    "\t\"os\"\n",
    ")\n",
    "\n",
    "type Dummy struct {\n",
    "\tName    string  `json:\"name\"`\n",
    "\tNumber  int64   `json:\"number\"`\n",
    "\tPointer *string `json:\"-\"` // we want to ignore JSON for this one\n",
    "}\n",
    "\n",
    "func main() {\n",
    "\tdata := []byte(`\n",
    "            {\n",
    "                \"name\": \"Mr Dummy\",\n",
    "                \"number\": 4,\n",
    "                \"pointer\": \"yes\"\n",
    "            }\n",
    "        `)\n",
    "\n",
    "\tvar dummy Dummy\n",
    "\terr := json.Unmarshal(data, &dummy)\n",
    "\tif err != nil {\n",
    "\t\tfmt.Println(\"An error occured: %v\", err)\n",
    "\t\tos.Exit(1)\n",
    "\t}\n",
    "\n",
    "\t// we want to print the field names as well\n",
    "\tfmt.Printf(\"%+v\\n\", dummy)\n",
    "}\n"
   ]
  },
  {
   "cell_type": "markdown",
   "id": "242e3407-4e3a-4ec5-906f-a6cac6328902",
   "metadata": {},
   "source": [
    "### marshal (struct 转为 string)"
   ]
  },
  {
   "cell_type": "code",
   "execution_count": 8,
   "id": "afb6d31d-76f7-4f5f-b625-22a8554cffcb",
   "metadata": {},
   "outputs": [
    {
     "name": "stdout",
     "output_type": "stream",
     "text": [
      "{\"name\":\"Mr Dummy\",\"number\":4}\n"
     ]
    }
   ],
   "source": [
    "// - 忽略某个字段\n",
    "import (\n",
    "\t\"encoding/json\"\n",
    "\t\"fmt\"\n",
    "\t\"os\"\n",
    ")\n",
    "\n",
    "type Dummy struct {\n",
    "\tName    string  `json:\"name\"`\n",
    "\tNumber  int64   `json:\"number\"`\n",
    "\tPointer *string `json:\"-\"`\n",
    "}\n",
    "\n",
    "func main() {\n",
    "\tpointer := \"yes\"\n",
    "\n",
    "\tdummy := Dummy{\n",
    "\t\tName:    \"Mr Dummy\",\n",
    "\t\tNumber:  4,\n",
    "\t\tPointer: &pointer,\n",
    "\t}\n",
    "\n",
    "\tdata, err := json.Marshal(dummy)\n",
    "\tif err != nil {\n",
    "\t\tfmt.Println(\"An error occured: %v\", err)\n",
    "\t\tos.Exit(1)\n",
    "\t}\n",
    "\n",
    "\tfmt.Println(string(data))\n",
    "}\n"
   ]
  },
  {
   "cell_type": "code",
   "execution_count": 12,
   "id": "f227eedd-0c0a-46e6-a46f-3e3ebaa728eb",
   "metadata": {},
   "outputs": [
    {
     "name": "stdout",
     "output_type": "stream",
     "text": [
      "{\"name\":\"Mr Dummy\",\"number\":4,\"pointer\":\"yes\"}\n",
      "{}\n"
     ]
    }
   ],
   "source": [
    "// omitempty，转成字符串时零值忽略\n",
    "import (\n",
    "\t\"encoding/json\"\n",
    "\t\"fmt\"\n",
    "\t\"os\"\n",
    ")\n",
    "\n",
    "type Dummy struct {\n",
    "\tName    string  `json:\"name,omitempty\"`\n",
    "\tNumber  int64   `json:\"number,omitempty\"`\n",
    "\tPointer *string `json:\"pointer,omitempty\"`\n",
    "}\n",
    "\n",
    "func main() {\n",
    "\tpointer := \"yes\"\n",
    "\n",
    "\tdummyComplete := Dummy{\n",
    "\t\tName:    \"Mr Dummy\",\n",
    "\t\tNumber:  4,\n",
    "\t\tPointer: &pointer,\n",
    "\t}\n",
    "\n",
    "\tdata, err := json.Marshal(dummyComplete)\n",
    "\tif err != nil {\n",
    "\t\tfmt.Println(\"An error occured: %v\", err)\n",
    "\t\tos.Exit(1)\n",
    "\t}\n",
    "\n",
    "\tfmt.Println(string(data))\n",
    "\n",
    "\t// ALL of those are considered empty by Go\n",
    "\tdummyNilPointer := Dummy{\n",
    "\t\tName:    \"\",\n",
    "\t\tNumber:  0,\n",
    "\t\tPointer: nil,\n",
    "\t}\n",
    "\tdataNil, err := json.Marshal(dummyNilPointer)\n",
    "\tif err != nil {\n",
    "\t\tfmt.Println(\"An error occured: %v\", err)\n",
    "\t\tos.Exit(1)\n",
    "\t}\n",
    "\n",
    "\tfmt.Println(string(dataNil))\n",
    "}\n"
   ]
  }
 ],
 "metadata": {
  "kernelspec": {
   "display_name": "Go (gonb)",
   "language": "go",
   "name": "gonb"
  },
  "language_info": {
   "codemirror_mode": "",
   "file_extension": ".go",
   "mimetype": "",
   "name": "go",
   "nbconvert_exporter": "",
   "pygments_lexer": "",
   "version": "go1.19.3"
  }
 },
 "nbformat": 4,
 "nbformat_minor": 5
}
