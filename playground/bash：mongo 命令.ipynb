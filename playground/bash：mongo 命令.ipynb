{
 "cells": [
  {
   "cell_type": "code",
   "execution_count": 1,
   "id": "15963c74-654a-4b26-9bfd-d01d0509722c",
   "metadata": {},
   "outputs": [
    {
     "name": "stdout",
     "output_type": "stream",
     "text": [
      "5f35fca784c00a12e681dbd0f0d50e1d0df5ce2039afe3a1b03bf5daa7100a56\n"
     ]
    }
   ],
   "source": [
    "# 启动\n",
    "mongoImg=mongo:4.4.10\n",
    "docker run -d --network host --name some-mongo \\\n",
    "\t-e MONGO_INITDB_ROOT_USERNAME=mongoadmin \\\n",
    "\t-e MONGO_INITDB_ROOT_PASSWORD=secret \\\n",
    "\t$mongoImg"
   ]
  }
 ],
 "metadata": {
  "kernelspec": {
   "display_name": "Bash",
   "language": "bash",
   "name": "bash"
  },
  "language_info": {
   "codemirror_mode": "shell",
   "file_extension": ".sh",
   "mimetype": "text/x-sh",
   "name": "bash"
  }
 },
 "nbformat": 4,
 "nbformat_minor": 5
}
