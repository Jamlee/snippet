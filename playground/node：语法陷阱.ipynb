{
 "cells": [
  {
   "cell_type": "markdown",
   "id": "6d1c0bb4-4939-4307-9bc7-5d52f726d24a",
   "metadata": {},
   "source": [
    "# 优质资料\n",
    "https://github.com/lydiahallie/javascript-questions  \n",
    "http://es6-features.org/"
   ]
  },
  {
   "cell_type": "markdown",
   "id": "dc64017e-8b8d-4519-b4ef-c2475ac5440c",
   "metadata": {},
   "source": [
    "# Scope variable"
   ]
  },
  {
   "cell_type": "code",
   "execution_count": null,
   "id": "68f01b25-934b-49fb-96c8-d1fd376f2e9b",
   "metadata": {},
   "outputs": [],
   "source": [
    "// ---------------------------------------------------------\n",
    "// 问题：for 的 body 中的 let 为什么每次都是新值。因为 js 引擎内部处理\n",
    "// \n",
    "// https://tc39.es/ecma262/#sec-createperiterationenvironment\n",
    "// https://segmentfault.com/q/1010000007541743\n",
    "\n",
    "{\n",
    "    for (let i = 0; i < 3; i++) {\n",
    "      setTimeout(() => console.log(i), 1);\n",
    "    }\n",
    "    console.log()\n",
    "}\n",
    "{\n",
    "    for (var i = 0; i < 3; console.log(\"in for expression\", i), i++) {\n",
    "        let i;\n",
    "        console.log(\"in for block\", i);\n",
    "    }\n",
    "}\n",
    "{\n",
    "    // 变量y因为块级作用域的原因虽然也是三个不同的y，但不巧的是大家保存的是同一个引用地址，所以输出都是3了。\n",
    "    let a = []\n",
    "    for (let y = {i: 0}; y.i < 3; y.i++) {\n",
    "        a[y.i] = function () {\n",
    "            console.log(y.i);\n",
    "        };\n",
    "    };\n",
    "    a[0]();\n",
    "    a[1]();\n",
    "    a[2]();\n",
    "}"
   ]
  },
  {
   "cell_type": "markdown",
   "id": "0fa317f7-315a-425a-9066-2f7da278caca",
   "metadata": {},
   "source": [
    "# Arrow Function"
   ]
  },
  {
   "cell_type": "code",
   "execution_count": null,
   "id": "d0da6681-9266-4245-95f1-77af7b75ce72",
   "metadata": {},
   "outputs": [],
   "source": [
    "// ---------------------------------------------------------\n",
    "// 问题：没有大括号 lamda, 有返回值, 有大括号 lamda, 一定要写 return\n",
    "\n",
    "console.log((() => \"hello\")());\n",
    "console.log((() => { return \"hello\" })());\n",
    "\n",
    "// ---------------------------------------------------------\n",
    "// 原因是：箭头函数有: Expression Bodies 和 Statement Bodies\n",
    "(function(){\n",
    "\n",
    "let evens = [100, 200, 300]\n",
    "let odds  = evens.map(v => v + 1)\n",
    "let pairs = evens.map(v => ({ even: v, odd: v + 1 }))\n",
    "let nums  = evens.map((v, i) => v + i)\n",
    "console.log(odds, pairs, nums)\n",
    "\n",
    "}());"
   ]
  },
  {
   "cell_type": "markdown",
   "id": "2bae69d0-c0ea-427e-b352-18858174c4af",
   "metadata": {},
   "source": [
    "# 其他情况"
   ]
  },
  {
   "cell_type": "code",
   "execution_count": null,
   "id": "ab590f9a-c3bd-40de-9b1b-159a6b7f9fc3",
   "metadata": {},
   "outputs": [],
   "source": [
    "// ---------------------------------------------------------\n",
    "// 问题：不加分号，语法错误\n",
    "// 被识别 console.log()(function(){}) 这样了\n",
    "// https://stackoverflow.com/questions/31013221/typeerror-console-log-is-not-a-function\n",
    "// js 应不应该加分号: https://juejin.cn/post/6932863412783284231\n",
    "\n",
    "// JavaScript 并不要求在每个语句后面一定要加分号，因为在大部分情况下 JavaScript 引擎是可以识别出语句的结束位置并且自动插入分号，这个过程被称为 ASI (Automatic Semicolon Insertion ) 。但是，并不是所有的语句都能省略分号，因为 ASI 解析规则会导致某些情况代码异常。\n",
    "// 如果你是无分号党，当遇见以 + - [ ( / 为开头的语句的时候，要特别注意是否需要加分号，而且分号要加到行首。\n",
    "\n",
    "\n",
    "console.log()\n",
    "(function(){})\n",
    "\n",
    "// 添加分号可以工作\n",
    "// console.log();\n",
    "// (function(){})"
   ]
  }
 ],
 "metadata": {
  "kernelspec": {
   "display_name": "JavaScript (Node.js)",
   "language": "javascript",
   "name": "javascript"
  },
  "language_info": {
   "file_extension": ".js",
   "mimetype": "application/javascript",
   "name": "javascript",
   "version": "16.13.1"
  }
 },
 "nbformat": 4,
 "nbformat_minor": 5
}
